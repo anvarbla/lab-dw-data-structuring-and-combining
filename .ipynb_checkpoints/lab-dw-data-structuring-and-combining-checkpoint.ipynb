{
 "cells": [
  {
   "cell_type": "markdown",
   "id": "25d7736c-ba17-4aff-b6bb-66eba20fbf4e",
   "metadata": {
    "id": "25d7736c-ba17-4aff-b6bb-66eba20fbf4e"
   },
   "source": [
    "# Lab | Data Structuring and Combining Data"
   ]
  },
  {
   "cell_type": "markdown",
   "id": "a2cdfc70-44c8-478c-81e7-2bc43fdf4986",
   "metadata": {
    "id": "a2cdfc70-44c8-478c-81e7-2bc43fdf4986"
   },
   "source": [
    "## Challenge 1: Combining & Cleaning Data\n",
    "\n",
    "In this challenge, we will be working with the customer data from an insurance company, as we did in the two previous labs. The data can be found here:\n",
    "- https://raw.githubusercontent.com/data-bootcamp-v4/data/main/file1.csv\n",
    "\n",
    "But this time, we got new data, which can be found in the following 2 CSV files located at the links below.\n",
    "\n",
    "- https://raw.githubusercontent.com/data-bootcamp-v4/data/main/file2.csv\n",
    "- https://raw.githubusercontent.com/data-bootcamp-v4/data/main/file3.csv\n",
    "\n",
    "Note that you'll need to clean and format the new data.\n",
    "\n",
    "Observation:\n",
    "- One option is to first combine the three datasets and then apply the cleaning function to the new combined dataset\n",
    "- Another option would be to read the clean file you saved in the previous lab, and just clean the two new files and concatenate the three clean datasets"
   ]
  },
  {
   "cell_type": "code",
   "execution_count": null,
   "id": "492d06e3-92c7-4105-ac72-536db98d3244",
   "metadata": {
    "id": "492d06e3-92c7-4105-ac72-536db98d3244"
   },
   "outputs": [],
   "source": [
    "import pandas as pd\n",
    "url1=\"https://raw.githubusercontent.com/data-bootcamp-v4/data/main/file1.csv\"\n",
    "url2=\"https://raw.githubusercontent.com/data-bootcamp-v4/data/main/file2.csv\"\n",
    "url3=\"https://raw.githubusercontent.com/data-bootcamp-v4/data/main/file3.csv\"\n",
    "\n",
    "df_customer_data1=pd.read_csv(url1)\n",
    "df_customer_data2=pd.read_csv(url2)\n",
    "df_customer_data3=pd.read_csv(url3)\n",
    "\n",
    "df=pd.concat([df_customer_data1,df_customer_data2])\n",
    "df"
   ]
  },
  {
   "cell_type": "code",
   "execution_count": null,
   "id": "b82e0b67-d857-411f-a7d7-01df3e6f14b1",
   "metadata": {},
   "outputs": [],
   "source": [
    "#Cleaning data\n",
    "df.rename(columns={\"ST\":\"State\"} ,inplace=True)\n",
    "df.columns=df.columns.str.replace(\" \",\"_\")\n",
    "df.columns=df.columns.str.lower())\n",
    "\n",
    "df.gender=df[\"gender\"].map({\"Female\":\"F\", \"Male\":\"M\",\"famale\":\"F\"})\n",
    "df.st=df[\"state\"].map({\"AZ\":\"Arizona\",\"Cali\":\"California\",\"WA\": \"Washington\"})\n",
    "df.education=df[\"education\"].map({\"Bachelors\":\"Bachelor\"})\n",
    "df[\"customer_lifetime_value\"]=df[\"customer_lifetime_value\"].str.replace(\"%\",\"\")\n",
    "df[\"vehicle_class\"]=df[\"vehicle_class\"].map({'Four-Door Car':'Four-Door Car', 'Two-Door Car':'Two-Door Car', 'SUV':'SUV', 'Luxury SUV':'Luxury', 'Sports Car':\"Luxury\",'Luxury Car':\"Luxury\"})"
   ]
  },
  {
   "cell_type": "code",
   "execution_count": null,
   "id": "2d18c5e7-d6f4-4e0f-8299-b85b95aae8d0",
   "metadata": {},
   "outputs": [],
   "source": [
    "#Cleaning data part2 \n",
    "df[\"customer_lifetime_value\"]=df[\"customer_lifetime_value\"].astype(float)\n",
    "df.dropna(subset=[\"number_of_open_complaints\"],inplace=True)\n",
    "df[\"number_of_open_complaints\"]=(df[\"number_of_open_complaints\"].str.split(\"/\")).str[1]\n",
    "df.dropna(how=\"all\", inplace=True)\n",
    "df[\"gender\"].fillna((\"No_gender\"), inplace=True)\n",
    "\n",
    "df.dropna(how=\"all\", inplace=True)\n",
    "df[\"gender\"].fillna((\"No_gender\"), inplace=True)\n",
    "df.dropna(subset=[\"customer_lifetime_value\"], inplace=True)\n",
    "df.dropna(subset=[\"education\"], inplace=True)\n",
    "df.dropna(subset=[\"vehicle_class\"], inplace=True)\n",
    "\n",
    "df.drop_duplicates()\n",
    "df.reset_index(drop=True)"
   ]
  },
  {
   "cell_type": "markdown",
   "id": "31b8a9e7-7db9-4604-991b-ef6771603e57",
   "metadata": {
    "id": "31b8a9e7-7db9-4604-991b-ef6771603e57"
   },
   "source": [
    "# Challenge 2: Structuring Data"
   ]
  },
  {
   "cell_type": "markdown",
   "id": "a877fd6d-7a0c-46d2-9657-f25036e4ca4b",
   "metadata": {
    "id": "a877fd6d-7a0c-46d2-9657-f25036e4ca4b"
   },
   "source": [
    "In this challenge, we will continue to work with customer data from an insurance company, but we will use a dataset with more columns, called marketing_customer_analysis.csv, which can be found at the following link:\n",
    "\n",
    "https://raw.githubusercontent.com/data-bootcamp-v4/data/main/marketing_customer_analysis_clean.csv\n",
    "\n",
    "This dataset contains information such as customer demographics, policy details, vehicle information, and the customer's response to the last marketing campaign. Our goal is to explore and analyze this data by performing data cleaning, formatting, and structuring."
   ]
  },
  {
   "cell_type": "code",
   "execution_count": null,
   "id": "aa10d9b0-1c27-4d3f-a8e4-db6ab73bfd26",
   "metadata": {
    "id": "aa10d9b0-1c27-4d3f-a8e4-db6ab73bfd26"
   },
   "outputs": [],
   "source": [
    "url4=\"https://raw.githubusercontent.com/data-bootcamp-v4/data/main/marketing_customer_analysis_clean.csv\"\n",
    "df2=pd.read_csv(url4)\n",
    "df2.columns\n"
   ]
  },
  {
   "cell_type": "markdown",
   "id": "df35fd0d-513e-4e77-867e-429da10a9cc7",
   "metadata": {
    "id": "df35fd0d-513e-4e77-867e-429da10a9cc7"
   },
   "source": [
    "1. You work at the marketing department and you want to know which sales channel brought the most sales in terms of total revenue. Using pivot, create a summary table showing the total revenue for each sales channel (branch, call center, web, and mail).\n",
    "Round the total revenue to 2 decimal points.  Analyze the resulting table to draw insights."
   ]
  },
  {
   "cell_type": "code",
   "execution_count": null,
   "id": "85b3397f-f9a5-4d59-ade4-32bb63c7a48b",
   "metadata": {},
   "outputs": [],
   "source": [
    "pivot1=df2.pivot_table(index=\"sales_channel\",values=\"total_claim_amount\", aggfunc=\"sum\")\n",
    "pivot1=pivot1.round(2)\n",
    "pivot1"
   ]
  },
  {
   "cell_type": "markdown",
   "id": "640993b2-a291-436c-a34d-a551144f8196",
   "metadata": {
    "id": "640993b2-a291-436c-a34d-a551144f8196"
   },
   "source": [
    "2. Create a pivot table that shows the average customer lifetime value per gender and education level. Analyze the resulting table to draw insights."
   ]
  },
  {
   "cell_type": "code",
   "execution_count": null,
   "id": "44f2184e-3e71-4ea6-a19c-f772045bdc56",
   "metadata": {},
   "outputs": [],
   "source": [
    "pivot2=df2.pivot_table(index=\"gender\",columns =\"education\", values=\"customer_lifetime_value\", aggfunc=\"mean\")\n",
    "pivot2=pivot2.round(2)\n",
    "pivot2"
   ]
  },
  {
   "cell_type": "markdown",
   "id": "32c7f2e5-3d90-43e5-be33-9781b6069198",
   "metadata": {
    "id": "32c7f2e5-3d90-43e5-be33-9781b6069198"
   },
   "source": [
    "## Bonus\n",
    "\n",
    "You work at the customer service department and you want to know which months had the highest number of complaints by policy type category. Create a summary table showing the number of complaints by policy type and month.\n",
    "Show it in a long format table."
   ]
  },
  {
   "cell_type": "markdown",
   "id": "e3d09a8f-953c-448a-a5f8-2e5a8cca7291",
   "metadata": {
    "id": "e3d09a8f-953c-448a-a5f8-2e5a8cca7291"
   },
   "source": [
    "*In data analysis, a long format table is a way of structuring data in which each observation or measurement is stored in a separate row of the table. The key characteristic of a long format table is that each column represents a single variable, and each row represents a single observation of that variable.*\n",
    "\n",
    "*More information about long and wide format tables here: https://www.statology.org/long-vs-wide-data/*"
   ]
  },
  {
   "cell_type": "code",
   "execution_count": null,
   "id": "3a069e0b-b400-470e-904d-d17582191be4",
   "metadata": {
    "id": "3a069e0b-b400-470e-904d-d17582191be4"
   },
   "outputs": [],
   "source": [
    "df2[\"month\"]=(df2[\"effective_to_date\"].str.split(\"-\")).str[1]\n",
    "df2"
   ]
  },
  {
   "cell_type": "code",
   "execution_count": null,
   "id": "e477c1a3-a486-493e-9384-1ed8ee395d13",
   "metadata": {},
   "outputs": [],
   "source": [
    "pivot3=df2.pivot_table(index=[\"gender\", \"month\"], values=\"total_claim_amount\", aggfunc=\"sum\")\n",
    "pivot3=pivot3.round(2)\n",
    "pivot3"
   ]
  },
  {
   "cell_type": "code",
   "execution_count": null,
   "id": "25b680fb-f7be-425a-b05f-a51184bbc1e7",
   "metadata": {},
   "outputs": [],
   "source": []
  }
 ],
 "metadata": {
  "colab": {
   "provenance": []
  },
  "kernelspec": {
   "display_name": ".venv",
   "language": "python",
   "name": ".venv"
  },
  "language_info": {
   "codemirror_mode": {
    "name": "ipython",
    "version": 3
   },
   "file_extension": ".py",
   "mimetype": "text/x-python",
   "name": "python",
   "nbconvert_exporter": "python",
   "pygments_lexer": "ipython3",
   "version": "3.13.1"
  }
 },
 "nbformat": 4,
 "nbformat_minor": 5
}
